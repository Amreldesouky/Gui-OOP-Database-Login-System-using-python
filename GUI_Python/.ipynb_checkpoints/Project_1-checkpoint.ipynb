{
 "cells": [
  {
   "cell_type": "code",
   "execution_count": 2,
   "id": "b813eaed-c3bf-45d2-b3c1-f0e724e2f581",
   "metadata": {},
   "outputs": [
    {
     "name": "stdout",
     "output_type": "stream",
     "text": [
      "afsdsa\n"
     ]
    }
   ],
   "source": [
    "print(\"afsdsa\")\n",
    "import mysql.connector\n",
    "import tkinter as tk\n",
    "from tkinter import filedialog\n",
    "from PIL import Image, ImageTk\n",
    "from tkinter import messagebox\n",
    "\n",
    "mydb = mysql.connector.connect(\n",
    "    host='localhost',\n",
    "    user='root',\n",
    "    password='root',\n",
    "    database='mydatabase'\n",
    ")\n",
    "\n",
    "my_cursor = mydb.cursor()\n",
    "\n",
    "fileName = ''\n",
    "img = ''\n",
    "window = tk.Tk()\n",
    "window.geometry('400x200+400+300')\n",
    "window.title(\"Save Data\")\n",
    "\n",
    "def upload_image():\n",
    "    global fileName, img\n",
    "    fileName = filedialog.askopenfilename(\n",
    "        filetypes=[(\"png file\", \"*.png\"), (\"JPG file\", \"*.jpg\"), (\"JPEG file\", \"*.JPEG\")]\n",
    "    )\n",
    "\n",
    "    if fileName:\n",
    "        img = Image.open(fileName)\n",
    "        img = img.resize((100, 100))\n",
    "        img = ImageTk.PhotoImage(img)\n",
    "        label = tk.Label(image=img, width=100, height=100)\n",
    "        label.grid(row=3, column=1)\n",
    "\n",
    "def convertToBinary(filename):\n",
    "    with open(filename, 'rb') as file:\n",
    "        bd = file.read()\n",
    "    return bd\n",
    "\n",
    "choices = ['Add', 'Check']\n",
    "\n",
    "def submit(edit, edit1, edit2):\n",
    "    sql = \"INSERT INTO student (user, password, name, pic) values (%s,%s,%s,%s)\"\n",
    "    pic = convertToBinary(fileName)\n",
    "    data = (edit.get(), edit1.get(), edit2.get(), pic)\n",
    "    try:\n",
    "        my_cursor.execute(sql, data)\n",
    "        mydb.commit()\n",
    "        messagebox.showinfo('Message', 'Done!')\n",
    "    except mysql.connector.Error as err:\n",
    "        messagebox.showinfo('Message', f\"Error : {err}\")\n",
    "\n",
    "def check(edit,edit1):\n",
    "    usr = edit.get()\n",
    "    pas = edit1.get()\n",
    "    sql = f\"SELECT * FROM student WHERE user='{usr}' AND password='{pas}'\"\n",
    "    my_cursor.execute(sql)\n",
    "    result = my_cursor.fetchone()\n",
    "    if result:\n",
    "\n",
    "        messagebox.showinfo('Message', f\"Name : {result[2]} \\n Username : {result[0]} \\n password : {result[1]} \\n \")\n",
    "    else:\n",
    "        messagebox.showinfo('Message', \"Wrong data !!!!\")\n",
    "        \n",
    "    \n",
    "\n",
    "def ad_ch():\n",
    "    selected = selected_choice.get()\n",
    "    button.grid_forget()\n",
    "    option_menu.grid_remove()\n",
    "    if selected == 'Add':\n",
    "        # Create Entry widgets before calling submit\n",
    "        label = tk.Label(text='Enter username : ', width=15)\n",
    "        label.grid(row=0, column=0)\n",
    "        edit = tk.Entry(width=30)\n",
    "        edit.grid(row=0, column=1)\n",
    "\n",
    "        label1 = tk.Label(text='password : ', width=15)\n",
    "        label1.grid(row=1, column=0)\n",
    "        edit1 = tk.Entry(width=30)\n",
    "        edit1.grid(row=1, column=1)\n",
    "\n",
    "        label2 = tk.Label(text='Enter Name : ', width=15)\n",
    "        label2.grid(row=2, column=0)\n",
    "        edit2 = tk.Entry(width=30)\n",
    "        edit2.grid(row=2, column=1)\n",
    "        \n",
    "        button1 = tk.Button(text='Upload image', command=upload_image, bg=\"#581845\", fg='white')\n",
    "        button1.grid(row=0, column=2)\n",
    "        \n",
    "        # Submit button with direct call (variables defined earlier)\n",
    "        button2 = tk.Button(text='Submit', command=lambda: submit(edit, edit1, edit2))\n",
    "        button2.grid(row=4, column=1)\n",
    "          # Now variables are defined\n",
    "    else:\n",
    "        label = tk.Label(text='Enter username : ', width=15)\n",
    "        label.grid(row=0, column=0)\n",
    "        edit = tk.Entry(width=30)\n",
    "        edit.grid(row=0, column=1)\n",
    "\n",
    "        label1 = tk.Label(text='password : ', width=15)\n",
    "        label1.grid(row=1, column=0)\n",
    "        edit1 = tk.Entry(width=30)\n",
    "        edit1.grid(row=1, column=1)\n",
    "        \n",
    "        button2 = tk.Button(text='Check', command=lambda: check(edit, edit1) )\n",
    "        button2.grid(row=4, column=1)\n",
    "        \n",
    "\n",
    "\n",
    "\n",
    "\n",
    "selected_choice = tk.StringVar(window)\n",
    "selected_choice.set(choices[0])\n",
    "option_menu = tk.OptionMenu(window, selected_choice, *choices)\n",
    "option_menu.grid(row=0, column=0)\n",
    "\n",
    "button = tk.Button(text='select', command=ad_ch)\n",
    "button.grid(row=4, column=1)\n",
    "\n",
    "window['bg'] = '#B2BEB5'\n",
    "window.iconbitmap('C:\\\\Users\\\\Amr\\\\Desktop\\\\INSTANT\\\\project_1\\\\GUI_Python\\\\images\\\\10207manstudentlightskintone_110568.ico')  # Replace with your icon path\n",
    "window.mainloop()\n",
    "\n",
    "\n",
    "\n",
    "\n",
    "\n",
    "\n",
    "\n",
    "\n",
    "\n",
    "\n",
    "\n",
    "\n",
    "\n",
    "\n",
    "\n",
    "\n",
    "\n",
    "\n",
    "\n",
    "\n",
    "\n",
    "# try:\n",
    "#     my_cursor.execute()\n",
    "#     #result = my_cursor.fetchall()\n",
    "#     mydb.commit()\n",
    "#     print(\"Record inserted successfully\")\n",
    "# except mysql.connector.Error as err:\n",
    "#     print(\"Error:\", err)\n",
    "# finally:\n",
    "#      my_cursor.close()\n",
    "#      mydb.close()  # Always close connections to avoid resource leaks\n",
    "\n"
   ]
  },
  {
   "cell_type": "code",
   "execution_count": 5,
   "id": "95759df7-dd89-43dd-ba78-402dc6b7355f",
   "metadata": {
    "scrolled": true
   },
   "outputs": [
    {
     "name": "stdout",
     "output_type": "stream",
     "text": [
      "sadsadf\n"
     ]
    }
   ],
   "source": [
    "print(\"sadsadf\")\n"
   ]
  },
  {
   "cell_type": "code",
   "execution_count": null,
   "id": "10ae9ba3-77c6-4a2b-9402-72aa37687d33",
   "metadata": {},
   "outputs": [],
   "source": []
  },
  {
   "cell_type": "code",
   "execution_count": null,
   "id": "fc146b7b-c9d3-486b-8ac3-a55eb3c2ffd6",
   "metadata": {},
   "outputs": [],
   "source": [
    "dddddaaaaa"
   ]
  },
  {
   "cell_type": "code",
   "execution_count": null,
   "id": "573f378e-6ebf-4fbf-b7b6-b7cfc2207e08",
   "metadata": {},
   "outputs": [],
   "source": []
  },
  {
   "cell_type": "code",
   "execution_count": null,
   "id": "dd44db69-be3b-4c4b-b53d-ec1f1d8b1544",
   "metadata": {},
   "outputs": [],
   "source": []
  },
  {
   "cell_type": "code",
   "execution_count": null,
   "id": "5d354beb-e51c-410b-a814-c2dfbeaa5d31",
   "metadata": {
    "scrolled": true
   },
   "outputs": [],
   "source": []
  }
 ],
 "metadata": {
  "kernelspec": {
   "display_name": "Python 3 (ipykernel)",
   "language": "python",
   "name": "python3"
  },
  "language_info": {
   "codemirror_mode": {
    "name": "ipython",
    "version": 3
   },
   "file_extension": ".py",
   "mimetype": "text/x-python",
   "name": "python",
   "nbconvert_exporter": "python",
   "pygments_lexer": "ipython3",
   "version": "3.11.7"
  },
  "widgets": {
   "application/vnd.jupyter.widget-state+json": {
    "state": {},
    "version_major": 2,
    "version_minor": 0
   }
  }
 },
 "nbformat": 4,
 "nbformat_minor": 5
}
